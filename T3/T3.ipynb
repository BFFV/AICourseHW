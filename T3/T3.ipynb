{
 "cells": [
  {
   "cell_type": "markdown",
   "metadata": {
    "colab_type": "text",
    "id": "oisKwt3v2xu4"
   },
   "source": [
    "# Tarea 3 - Detección de Sarcasmo en Texto\n",
    "\n",
    "### Nombre: Benjamín Farías V."
   ]
  },
  {
   "cell_type": "markdown",
   "metadata": {
    "colab_type": "text",
    "id": "6_EFTi1Mmha6"
   },
   "source": [
    "# Preparación de Datos"
   ]
  },
  {
   "cell_type": "markdown",
   "metadata": {
    "colab_type": "text",
    "id": "hjyUmUc825S-"
   },
   "source": [
    "A continuación se leen los datos desde el archivo `.json`:"
   ]
  },
  {
   "cell_type": "code",
   "execution_count": 107,
   "metadata": {
    "colab": {},
    "colab_type": "code",
    "id": "RTz4_EjnrzAj"
   },
   "outputs": [],
   "source": [
    "import json\n",
    "from spacy.lang.en.stop_words import STOP_WORDS\n",
    "\n",
    "# Se carga la base de datos de manera local, eliminando las Stop Words de forma manual\n",
    "def parse_data(path):\n",
    "    items = []\n",
    "    with open(path, encoding='utf-8') as file:\n",
    "        for line in file:\n",
    "            clean_line = ' '.join([word for word in line.split() if word.lower() not in STOP_WORDS])\n",
    "            item = json.loads(clean_line)\n",
    "            items.append(item)\n",
    "    return items\n",
    "\n",
    "data = parse_data('Sarcasm_Headlines_Dataset_v2.json') # Usamos la v2 del dataset"
   ]
  },
  {
   "cell_type": "markdown",
   "metadata": {},
   "source": [
    "Ahora extraemos los textos y su atributo que indica si son sarcásticos o no:"
   ]
  },
  {
   "cell_type": "code",
   "execution_count": 108,
   "metadata": {
    "colab": {},
    "colab_type": "code",
    "id": "3aJT-vRer3lM"
   },
   "outputs": [],
   "source": [
    "x_in = [x['headline'].replace(\"'\",\"\").replace(\":\",\"\") for x in data]\n",
    "y = [x['is_sarcastic'] for x in data]"
   ]
  },
  {
   "cell_type": "markdown",
   "metadata": {
    "colab_type": "text",
    "id": "unfOLtkI4xZJ"
   },
   "source": [
    "El siguiente código imprime una muestra de los 10 primeros elementos no sarcásticos y sarcásticos encontrados en el dataset:"
   ]
  },
  {
   "cell_type": "code",
   "execution_count": 109,
   "metadata": {
    "colab": {},
    "colab_type": "code",
    "id": "gkFBpimiI8l9"
   },
   "outputs": [
    {
     "name": "stdout",
     "output_type": "stream",
     "text": [
      "Muestra de algunos elementos del dataset:\n",
      "\n",
      "-(NOT SARCASTIC) dem rep. totally nails congress falling short gender, racial equality\n",
      "-(NOT SARCASTIC) eat veggies 9 deliciously different recipes\n",
      "-(NOT SARCASTIC) my white inheritance\n",
      "-(NOT SARCASTIC) 5 ways file taxes stress\n",
      "-(NOT SARCASTIC) lots parents know scenario\n",
      "-(NOT SARCASTIC) this lesbian considered father indiana (and amazing that)\n",
      "-(NOT SARCASTIC) amanda peet told daughter sex a special hug\n",
      "-(NOT SARCASTIC) what know current treatments ebola\n",
      "-(NOT SARCASTIC) chris christie suggests hillary clinton blame boko harams kidnapping hundreds schoolgirls\n",
      "-(NOT SARCASTIC) uber ceo travis kalanick stepping trump economic advisory council\n",
      "-(SARCASTIC)     thirtysomething scientists unveil doomsday clock hair loss\n",
      "-(SARCASTIC)     inclement weather prevents liar getting work\n",
      "-(SARCASTIC)     mother comes pretty close word streaming correctly\n",
      "-(SARCASTIC)     richard bransons global-warming donation nearly cost failed balloon trips\n",
      "-(SARCASTIC)     shadow government getting large meet marriott conference room b\n",
      "-(SARCASTIC)     ford develops new suv runs purely gasoline\n",
      "-(SARCASTIC)     area boy enters jumping-and-touching-tops-of-doorways phase\n",
      "-(SARCASTIC)     area man traveling gurney\n",
      "-(SARCASTIC)     guard video game strict orders repeatedly pace stretch hallway\n",
      "-(SARCASTIC)     secret service agent secret david alan grier fan\n"
     ]
    }
   ],
   "source": [
    "print('Muestra de algunos elementos del dataset:')\n",
    "sample = ['-(NOT SARCASTIC) ' + x_in[i] for i in range(len(x_in)) if not y[i]][:10]\n",
    "sample = sample + ['-(SARCASTIC)     ' + x_in[i] for i in range(len(x_in)) if y[i]][:10]\n",
    "print('\\n'+'\\n'.join(sample))"
   ]
  },
  {
   "cell_type": "markdown",
   "metadata": {
    "colab_type": "text",
    "id": "h-vQeCGW5kah"
   },
   "source": [
    "El siguiente código muestra la cantidad de elementos por clase. Notar que sum(y) entrega la cantidad de elementos sarcásticos, pues en el caso contrario la etiqueta es cero:"
   ]
  },
  {
   "cell_type": "code",
   "execution_count": 110,
   "metadata": {
    "colab": {
     "base_uri": "https://localhost:8080/",
     "height": 53
    },
    "colab_type": "code",
    "id": "Q6qw4AIO5CkD",
    "outputId": "03f4a7fe-e891-4d16-b451-05716845020e"
   },
   "outputs": [
    {
     "name": "stdout",
     "output_type": "stream",
     "text": [
      "Total de registros NO sarcásticos: 14985\n",
      "Total de registros sarcásticos: 13634\n"
     ]
    }
   ],
   "source": [
    "# Total de muestras\n",
    "tot_lines = len(y)\n",
    "tot_sarcastic = sum(y)\n",
    "tot_non_sarcastic = tot_lines - tot_sarcastic\n",
    "print('Total de registros NO sarcásticos: '+ str(tot_non_sarcastic))\n",
    "print('Total de registros sarcásticos: '+ str(tot_sarcastic))"
   ]
  },
  {
   "cell_type": "markdown",
   "metadata": {},
   "source": [
    "# Partición del Dataset\n",
    "\n",
    "Ahora se particiona el dataset en un set de entrenamiento (70%), uno de validación (15%) y uno de testing (15%):"
   ]
  },
  {
   "cell_type": "code",
   "execution_count": 111,
   "metadata": {},
   "outputs": [
    {
     "name": "stdout",
     "output_type": "stream",
     "text": [
      "**Largo de Cada Set**\n",
      "Completo: 28619\n",
      "Entrenamiento: 20033\n",
      "Validación: 4293\n",
      "Testing: 4293\n"
     ]
    }
   ],
   "source": [
    "from sklearn.model_selection import train_test_split\n",
    "\n",
    "X_train, X_test, y_train, y_test = train_test_split(x_in, y, test_size=0.15) # Primero se separa el set de testing\n",
    "X_train, X_val, y_train, y_val = train_test_split(X_train, y_train, test_size=0.1764705) # Luego se separa el de validación\n",
    "\n",
    "print(f'**Largo de Cada Set**\\nCompleto: {len(x_in)}\\nEntrenamiento: {len(X_train)}\\nValidación: {len(X_val)}\\nTesting: {len(X_test)}')"
   ]
  },
  {
   "cell_type": "markdown",
   "metadata": {
    "colab_type": "text",
    "id": "JRVCUaKa98P9"
   },
   "source": [
    "# Transformación a Vector de Frecuencias (BoW)\n",
    "\n",
    "Para este estudio se decidió utilizar la codificación BoW (Bag of Words):"
   ]
  },
  {
   "cell_type": "code",
   "execution_count": 112,
   "metadata": {},
   "outputs": [],
   "source": [
    "from sklearn.feature_extraction.text import CountVectorizer\n",
    "\n",
    "# Se genera el dataset completo en formato BoW (para la Actividad 1)\n",
    "dataset_vectorizer = CountVectorizer().fit(x_in)\n",
    "features_dataset = dataset_vectorizer.transform(x_in)\n",
    "\n",
    "# Se genera el dataset de training BoW\n",
    "vectorizer = CountVectorizer(X_train)\n",
    "features_train = vectorizer.fit_transform(X_train)\n",
    "\n",
    "# Se genera el dataset de validación BoW\n",
    "features_val = vectorizer.transform(X_val)\n",
    "\n",
    "# Se genera el dataset de testing BoW\n",
    "features_test = vectorizer.transform(X_test)"
   ]
  },
  {
   "cell_type": "markdown",
   "metadata": {
    "colab_type": "text",
    "id": "xKod3w-hzFcw"
   },
   "source": [
    "Podemos ver que en lugar de ser un vector común y corriente, está almacenado como un vector \"sparse\" que solamente almacena las coordenadas y valores de aquellos elementos distintos de cero (que debiesen ser la minoría):"
   ]
  },
  {
   "cell_type": "code",
   "execution_count": 113,
   "metadata": {
    "colab": {
     "base_uri": "https://localhost:8080/",
     "height": 71
    },
    "colab_type": "code",
    "id": "85IHtUYDhrjB",
    "outputId": "125b55aa-1fe9-444f-b065-f4c936524791"
   },
   "outputs": [
    {
     "name": "stdout",
     "output_type": "stream",
     "text": [
      "  (0, 4755)\t1\n",
      "  (0, 7387)\t1\n",
      "  (0, 10834)\t1\n",
      "  (0, 14333)\t1\n",
      "  (0, 21232)\t1\n",
      "  (0, 24329)\t1\n",
      "  (0, 25577)\t1\n"
     ]
    }
   ],
   "source": [
    "print(features_dataset[0,:]) # Palabras presentes en el primer texto del dataset completo"
   ]
  },
  {
   "cell_type": "code",
   "execution_count": 114,
   "metadata": {},
   "outputs": [
    {
     "name": "stdout",
     "output_type": "stream",
     "text": [
      "  (0, 22642)\t1\n",
      "  (0, 8912)\t1\n",
      "  (0, 8745)\t1\n",
      "  (0, 21100)\t1\n",
      "  (0, 650)\t1\n",
      "  (0, 13914)\t1\n",
      "  (0, 18290)\t1\n"
     ]
    }
   ],
   "source": [
    "print(features_train[0,:]) # Palabras presentes en el primer texto del dataset de entrenamiento"
   ]
  },
  {
   "cell_type": "code",
   "execution_count": 115,
   "metadata": {},
   "outputs": [
    {
     "name": "stdout",
     "output_type": "stream",
     "text": [
      "  (0, 34)\t1\n",
      "  (0, 7751)\t1\n",
      "  (0, 9990)\t1\n",
      "  (0, 13536)\t1\n",
      "  (0, 16791)\t1\n",
      "  (0, 17784)\t1\n"
     ]
    }
   ],
   "source": [
    "print(features_val[0,:]) # Palabras presentes en el primer texto del dataset de validación"
   ]
  },
  {
   "cell_type": "code",
   "execution_count": 116,
   "metadata": {
    "colab": {
     "base_uri": "https://localhost:8080/",
     "height": 107
    },
    "colab_type": "code",
    "id": "ifUjHUp9irJv",
    "outputId": "c976aa1f-ffac-4dbd-facc-3e507ef97ee7"
   },
   "outputs": [
    {
     "name": "stdout",
     "output_type": "stream",
     "text": [
      "  (0, 462)\t1\n",
      "  (0, 939)\t1\n",
      "  (0, 4914)\t1\n",
      "  (0, 6880)\t1\n",
      "  (0, 12514)\t1\n",
      "  (0, 13845)\t1\n",
      "  (0, 22492)\t1\n"
     ]
    }
   ],
   "source": [
    "print(features_test[0,:]) # Palabras presentes en el primer texto del dataset de testing"
   ]
  },
  {
   "cell_type": "markdown",
   "metadata": {},
   "source": [
    "# Actividad 1"
   ]
  },
  {
   "cell_type": "markdown",
   "metadata": {},
   "source": [
    "Primero se define una función capaz de graficar el histograma de frecuencias, dados un Vectorizador entrenado y los datos codificados en BoW:"
   ]
  },
  {
   "cell_type": "code",
   "execution_count": 117,
   "metadata": {},
   "outputs": [],
   "source": [
    "import matplotlib.pyplot as plt\n",
    "\n",
    "# Grafica el histograma de frecuencias dados un Vectorizador y las palabras (features)\n",
    "def plot_histogram(vectorizer, features, n=None):\n",
    "    sum_words = features.sum(axis=0)\n",
    "    words_freq = [(word, sum_words[0, idx]) for word, idx in vectorizer.vocabulary_.items()]\n",
    "    words_freq = sorted(words_freq, key= lambda x: x[1], reverse=True)[:n]\n",
    "    words = [x[0] for x in words_freq]\n",
    "    values = [x[1] for x in words_freq]\n",
    "    plt.figure(figsize=(20,10))\n",
    "    plt.xticks(rotation='vertical')\n",
    "    plt.bar(words, values)\n",
    "    plt.show()"
   ]
  },
  {
   "cell_type": "markdown",
   "metadata": {},
   "source": [
    "A continuación graficamos el histograma para el dataset completo:"
   ]
  },
  {
   "cell_type": "code",
   "execution_count": 118,
   "metadata": {},
   "outputs": [
    {
     "data": {
      "image/png": "[encoded data removed]",
      "text/plain": [
       "<Figure size 1440x720 with 1 Axes>"
      ]
     },
     "metadata": {
      "needs_background": "light"
     },
     "output_type": "display_data"
    }
   ],
   "source": [
    "plot_histogram(dataset_vectorizer, features_dataset, n=100)"
   ]
  },
  {
   "cell_type": "markdown",
   "metadata": {},
   "source": [
    "También lo graficamos para el set de entrenamiento generado:"
   ]
  },
  {
   "cell_type": "code",
   "execution_count": 119,
   "metadata": {},
   "outputs": [
    {
     "data": {
      "image/png": "[encoded data removed]",
      "text/plain": [
       "<Figure size 1440x720 with 1 Axes>"
      ]
     },
     "metadata": {
      "needs_background": "light"
     },
     "output_type": "display_data"
    }
   ],
   "source": [
    "plot_histogram(vectorizer, features_train, n=100)"
   ]
  },
  {
   "cell_type": "markdown",
   "metadata": {},
   "source": [
    "En ambos histogramas se puede observar que las 4 palabras más frecuentes en los dataset aparecen muchas más veces que el resto de palabras, formando una curva que inicialmente disminuye muy rápido pero luego se vuelve más uniforme. Esto implica que dichas palabras tendrán especial importancia al momento de entrenar el modelo, ya que aparecerán mucho más seguido que el resto. Es interesante también notar que la mayoría de palabras más frecuentes están relacionadas con temas político-sociales Estadounidenses, debido al origen de los dataset de estudio.\n",
    "\n",
    "Comparando ambos gráficos, se ve que tienen una forma muy similar, pero en el caso del de entrenamiento, algunas palabras frecuentes se encuentran en distintos lugares respecto al dataset completo, esto debido a que se elige aleatoriamente el 70% de este para formar el set de entrenamiento, causando un 'desorden aleatorio' entre palabras que se repiten una cantidad similar de veces."
   ]
  },
  {
   "cell_type": "markdown",
   "metadata": {},
   "source": [
    "# Actividad 2\n",
    "\n",
    "Para este estudio se eligió la codificación BoW (Bag of Words). Esta consiste en representar cada uno de los textos como un set de las palabras que estos contienen, considerando finalmente la multiplicidad de las palabras pero no el contexto en el que son utilizadas, ni tampoco el orden de éstas. Al utilizar esta codificación, las features utilizadas para entrenar serán las frecuencias de aparición de cada palabra, considerando todos los textos. Esta codificación tiene la ventaja de ser simple, pero la desventaja de no considerar el orden de las palabras ni el contexto, lo que puede generar un desempeño menor en comparación a técnicas como el word2vec, que utiliza redes neuronales pre-computadas para detectar el contexto en el que se basan los textos."
   ]
  },
  {
   "cell_type": "markdown",
   "metadata": {},
   "source": [
    "# Actividad 3\n",
    "\n",
    "Se entrenan 6 modelos distintos de Support Vector Machines, variando el parámetro C (penalización del error) y el kernel utilizado:"
   ]
  },
  {
   "cell_type": "code",
   "execution_count": 120,
   "metadata": {},
   "outputs": [
    {
     "data": {
      "text/plain": [
       "SVC(C=8, cache_size=200, class_weight=None, coef0=0.0,\n",
       "    decision_function_shape='ovr', degree=3, gamma='scale', kernel='rbf',\n",
       "    max_iter=-1, probability=False, random_state=None, shrinking=True,\n",
       "    tol=0.001, verbose=False)"
      ]
     },
     "execution_count": 120,
     "metadata": {},
     "output_type": "execute_result"
    }
   ],
   "source": [
    "from sklearn.svm import SVC\n",
    "\n",
    "svm_a = SVC(C=1, kernel='rbf', gamma='scale') # Kernel de base radial\n",
    "svm_a.fit(features_train, y_train)\n",
    "\n",
    "svm_b = SVC(C=1, kernel='poly', gamma='scale') # Kernel polinomial\n",
    "svm_b.fit(features_train, y_train)\n",
    "\n",
    "svm_c = SVC(C=1, kernel='linear') # Kernel lineal, no requiere el parámetro 'gamma'\n",
    "svm_c.fit(features_train, y_train)\n",
    "\n",
    "svm_d = SVC(C=0.5, kernel='rbf', gamma='scale')\n",
    "svm_d.fit(features_train, y_train)\n",
    "\n",
    "svm_e = SVC(C=5, kernel='rbf', gamma='scale')\n",
    "svm_e.fit(features_train, y_train)\n",
    "\n",
    "svm_f = SVC(C=8, kernel='rbf', gamma='scale')\n",
    "svm_f.fit(features_train, y_train)"
   ]
  },
  {
   "cell_type": "markdown",
   "metadata": {},
   "source": [
    "Ahora se aplican todos los modelos sobre el set de entrenamiento y de validación:"
   ]
  },
  {
   "cell_type": "code",
   "execution_count": 121,
   "metadata": {
    "colab": {},
    "colab_type": "code",
    "id": "NQ20rHvhnUfi"
   },
   "outputs": [],
   "source": [
    "train_svm_a = svm_a.predict(features_train)\n",
    "val_svm_a = svm_a.predict(features_val)\n",
    "\n",
    "train_svm_b = svm_b.predict(features_train)\n",
    "val_svm_b = svm_b.predict(features_val)\n",
    "\n",
    "train_svm_c = svm_c.predict(features_train)\n",
    "val_svm_c = svm_c.predict(features_val)\n",
    "\n",
    "train_svm_d = svm_d.predict(features_train)\n",
    "val_svm_d = svm_d.predict(features_val)\n",
    "\n",
    "train_svm_e = svm_e.predict(features_train)\n",
    "val_svm_e = svm_e.predict(features_val)\n",
    "\n",
    "train_svm_f = svm_f.predict(features_train)\n",
    "val_svm_f = svm_f.predict(features_val)"
   ]
  },
  {
   "cell_type": "markdown",
   "metadata": {},
   "source": [
    "Como el dataset original estaba bien balanceado (cantidad similar de textos sarcásticos y NO sarcásticos), el Accuracy Score es una buena medida del rendimiento de los clasificadores. Por lo tanto se calcula para cada uno de los modelos:"
   ]
  },
  {
   "cell_type": "code",
   "execution_count": 122,
   "metadata": {},
   "outputs": [],
   "source": [
    "from sklearn.metrics import accuracy_score\n",
    "\n",
    "train_scores = []\n",
    "for train_result in [train_svm_a, train_svm_b, train_svm_c, train_svm_d, train_svm_e, train_svm_f]:\n",
    "    train_scores.append(accuracy_score(y_train, train_result))\n",
    "\n",
    "validation_scores = []\n",
    "for validation_result in [val_svm_a, val_svm_b, val_svm_c, val_svm_d, val_svm_e, val_svm_f]:\n",
    "    validation_scores.append(accuracy_score(y_val, validation_result))"
   ]
  },
  {
   "cell_type": "markdown",
   "metadata": {},
   "source": [
    "Finalmente se muestra toda la información en un DataFrame:"
   ]
  },
  {
   "cell_type": "code",
   "execution_count": 123,
   "metadata": {},
   "outputs": [
    {
     "data": {
      "text/html": [
       "<div>\n",
       "<style scoped>\n",
       "    .dataframe tbody tr th:only-of-type {\n",
       "        vertical-align: middle;\n",
       "    }\n",
       "\n",
       "    .dataframe tbody tr th {\n",
       "        vertical-align: top;\n",
       "    }\n",
       "\n",
       "    .dataframe thead th {\n",
       "        text-align: right;\n",
       "    }\n",
       "</style>\n",
       "<table border=\"1\" class=\"dataframe\">\n",
       "  <thead>\n",
       "    <tr style=\"text-align: right;\">\n",
       "      <th></th>\n",
       "      <th>C Value</th>\n",
       "      <th>Kernel</th>\n",
       "      <th>Training Set Accuracy</th>\n",
       "      <th>Validation Set Accuracy</th>\n",
       "    </tr>\n",
       "  </thead>\n",
       "  <tbody>\n",
       "    <tr>\n",
       "      <th>0</th>\n",
       "      <td>1.0</td>\n",
       "      <td>rbf</td>\n",
       "      <td>0.980332</td>\n",
       "      <td>0.809457</td>\n",
       "    </tr>\n",
       "    <tr>\n",
       "      <th>1</th>\n",
       "      <td>1.0</td>\n",
       "      <td>poly</td>\n",
       "      <td>0.971297</td>\n",
       "      <td>0.661076</td>\n",
       "    </tr>\n",
       "    <tr>\n",
       "      <th>2</th>\n",
       "      <td>1.0</td>\n",
       "      <td>linear</td>\n",
       "      <td>0.982828</td>\n",
       "      <td>0.796180</td>\n",
       "    </tr>\n",
       "    <tr>\n",
       "      <th>3</th>\n",
       "      <td>0.5</td>\n",
       "      <td>rbf</td>\n",
       "      <td>0.935307</td>\n",
       "      <td>0.785232</td>\n",
       "    </tr>\n",
       "    <tr>\n",
       "      <th>4</th>\n",
       "      <td>5.0</td>\n",
       "      <td>rbf</td>\n",
       "      <td>0.999850</td>\n",
       "      <td>0.814349</td>\n",
       "    </tr>\n",
       "    <tr>\n",
       "      <th>5</th>\n",
       "      <td>8.0</td>\n",
       "      <td>rbf</td>\n",
       "      <td>0.999950</td>\n",
       "      <td>0.812485</td>\n",
       "    </tr>\n",
       "  </tbody>\n",
       "</table>\n",
       "</div>"
      ],
      "text/plain": [
       "   C Value  Kernel  Training Set Accuracy  Validation Set Accuracy\n",
       "0      1.0     rbf               0.980332                 0.809457\n",
       "1      1.0    poly               0.971297                 0.661076\n",
       "2      1.0  linear               0.982828                 0.796180\n",
       "3      0.5     rbf               0.935307                 0.785232\n",
       "4      5.0     rbf               0.999850                 0.814349\n",
       "5      8.0     rbf               0.999950                 0.812485"
      ]
     },
     "execution_count": 123,
     "metadata": {},
     "output_type": "execute_result"
    }
   ],
   "source": [
    "import pandas as pd\n",
    "\n",
    "svm_data = {'C Value': [1, 1, 1, 0.5, 5, 8], 'Kernel': ['rbf', 'poly', 'linear', 'rbf', 'rbf', 'rbf'],\n",
    "            'Training Set Accuracy': train_scores, 'Validation Set Accuracy': validation_scores}\n",
    "\n",
    "svm_table = pd.DataFrame(svm_data)\n",
    "svm_table"
   ]
  },
  {
   "cell_type": "markdown",
   "metadata": {},
   "source": [
    "Se puede observar que el kernel 'rbf' se ajusta mejor a los datos, y a medida que se aumenta el valor de C el rendimiento mejora. La excepción a la regla es el último modelo, que tiene el mayor valor de C (8), pero es ligeramente peor que el modelo que tiene C = 5 al aplicarlo sobre el set de validación. Esto ocurrió debido a que al penalizar tanto el error, el modelo se ajustó 'demasiado bien' a los datos del set de entrenamiento, generando Overfitting."
   ]
  },
  {
   "cell_type": "markdown",
   "metadata": {},
   "source": [
    "# Actividad 4\n",
    "\n",
    "Analizamos nuevamente la tabla de resultados obtenida en la Actividad 3:"
   ]
  },
  {
   "cell_type": "code",
   "execution_count": 124,
   "metadata": {},
   "outputs": [
    {
     "data": {
      "text/html": [
       "<div>\n",
       "<style scoped>\n",
       "    .dataframe tbody tr th:only-of-type {\n",
       "        vertical-align: middle;\n",
       "    }\n",
       "\n",
       "    .dataframe tbody tr th {\n",
       "        vertical-align: top;\n",
       "    }\n",
       "\n",
       "    .dataframe thead th {\n",
       "        text-align: right;\n",
       "    }\n",
       "</style>\n",
       "<table border=\"1\" class=\"dataframe\">\n",
       "  <thead>\n",
       "    <tr style=\"text-align: right;\">\n",
       "      <th></th>\n",
       "      <th>C Value</th>\n",
       "      <th>Kernel</th>\n",
       "      <th>Training Set Accuracy</th>\n",
       "      <th>Validation Set Accuracy</th>\n",
       "    </tr>\n",
       "  </thead>\n",
       "  <tbody>\n",
       "    <tr>\n",
       "      <th>0</th>\n",
       "      <td>1.0</td>\n",
       "      <td>rbf</td>\n",
       "      <td>0.980332</td>\n",
       "      <td>0.809457</td>\n",
       "    </tr>\n",
       "    <tr>\n",
       "      <th>1</th>\n",
       "      <td>1.0</td>\n",
       "      <td>poly</td>\n",
       "      <td>0.971297</td>\n",
       "      <td>0.661076</td>\n",
       "    </tr>\n",
       "    <tr>\n",
       "      <th>2</th>\n",
       "      <td>1.0</td>\n",
       "      <td>linear</td>\n",
       "      <td>0.982828</td>\n",
       "      <td>0.796180</td>\n",
       "    </tr>\n",
       "    <tr>\n",
       "      <th>3</th>\n",
       "      <td>0.5</td>\n",
       "      <td>rbf</td>\n",
       "      <td>0.935307</td>\n",
       "      <td>0.785232</td>\n",
       "    </tr>\n",
       "    <tr>\n",
       "      <th>4</th>\n",
       "      <td>5.0</td>\n",
       "      <td>rbf</td>\n",
       "      <td>0.999850</td>\n",
       "      <td>0.814349</td>\n",
       "    </tr>\n",
       "    <tr>\n",
       "      <th>5</th>\n",
       "      <td>8.0</td>\n",
       "      <td>rbf</td>\n",
       "      <td>0.999950</td>\n",
       "      <td>0.812485</td>\n",
       "    </tr>\n",
       "  </tbody>\n",
       "</table>\n",
       "</div>"
      ],
      "text/plain": [
       "   C Value  Kernel  Training Set Accuracy  Validation Set Accuracy\n",
       "0      1.0     rbf               0.980332                 0.809457\n",
       "1      1.0    poly               0.971297                 0.661076\n",
       "2      1.0  linear               0.982828                 0.796180\n",
       "3      0.5     rbf               0.935307                 0.785232\n",
       "4      5.0     rbf               0.999850                 0.814349\n",
       "5      8.0     rbf               0.999950                 0.812485"
      ]
     },
     "execution_count": 124,
     "metadata": {},
     "output_type": "execute_result"
    }
   ],
   "source": [
    "svm_table"
   ]
  },
  {
   "cell_type": "markdown",
   "metadata": {},
   "source": [
    "Para elegir el mejor modelo nos basaremos en el Accuracy Score, que es una buena métrica a utilizar en datasets balanceados. El modelo que mejor actuó sobre el set de validación fue el 5to (C=5, kernel='rbf'). Los modelos del 1 al 4 no se lograron ajustar tan bien a los datos (Underfitting), mientras que en el 6to ocurrió Overfitting al utilizar una penalización del error demasiado grande. "
   ]
  },
  {
   "cell_type": "code",
   "execution_count": 125,
   "metadata": {},
   "outputs": [],
   "source": [
    "best_svm = svm_e"
   ]
  },
  {
   "cell_type": "markdown",
   "metadata": {},
   "source": [
    "A continuación aplicamos el mejor modelo de SVM sobre el set de testing:"
   ]
  },
  {
   "cell_type": "code",
   "execution_count": 126,
   "metadata": {},
   "outputs": [],
   "source": [
    "test_best_svm = best_svm.predict(features_test)"
   ]
  },
  {
   "cell_type": "markdown",
   "metadata": {},
   "source": [
    "Obtenemos el Accuracy Score para evaluar su rendimiento:"
   ]
  },
  {
   "cell_type": "code",
   "execution_count": 127,
   "metadata": {},
   "outputs": [
    {
     "name": "stdout",
     "output_type": "stream",
     "text": [
      "0.8150477521546704\n"
     ]
    }
   ],
   "source": [
    "print(accuracy_score(y_test, test_best_svm))"
   ]
  },
  {
   "cell_type": "markdown",
   "metadata": {},
   "source": [
    "Finalmente, realizamos un pequeño análisis de algunos textos predichos correcta e incorrectamente:"
   ]
  },
  {
   "cell_type": "code",
   "execution_count": 128,
   "metadata": {},
   "outputs": [
    {
     "name": "stdout",
     "output_type": "stream",
     "text": [
      "Correct Predictions\n",
      "\n",
      "Text: elle magazine accidentally airbrushes naomi watts cover altogether, isSarcastic: True\n",
      "Text: this its like free dive whales, isSarcastic: False\n",
      "Text: the drag queen world series need know!, isSarcastic: False\n",
      "Text: 13 year old boy diagnosed incurable puberty, isSarcastic: True\n",
      "Text: israel vows use veto power chuck hagel confirmed u.s. secretary defense, isSarcastic: True\n",
      "Text: first-grader given sticker behavior lockdown drill, isSarcastic: True\n",
      "Text: donald trump didnt actually roll legal protections transgender kids, isSarcastic: False\n",
      "Text: stylin pete king dress world crisis, isSarcastic: False\n",
      "Text: un chief warns womens rights attack worldwide, isSarcastic: False\n",
      "Text: perfect birthday card discovered local mall, isSarcastic: True\n",
      "\n",
      "Incorrect Predictions\n",
      "\n",
      "Text: woman enters miss universe malaysia finding beauty head-to-toe moles, isSarcastic: False\n",
      "Text: dog waited spot month family return, isSarcastic: False\n",
      "Text: anthropologists discover ancient greek super pac helped shape democracy, isSarcastic: True\n",
      "Text: edge tomorrow spiritual travel metaphor, isSarcastic: False\n",
      "Text: jon bon jovi jealous classmate jersey, isSarcastic: True\n",
      "Text: all sleepy hollow season 2 intel handle, isSarcastic: False\n",
      "Text: would buy 1,433-pound meteorite $1.1 million?, isSarcastic: False\n",
      "Text: florida resort allows guests swim miami dolphins, isSarcastic: True\n",
      "Text: report 83% americans want sunglasses lets this, isSarcastic: True\n",
      "Text: cupid stupid, isSarcastic: False\n"
     ]
    }
   ],
   "source": [
    "correct_count = 10\n",
    "incorrect_count = 10\n",
    "correct_predictions = []\n",
    "incorrect_predictions = []\n",
    "for prediction, original, text in zip(test_best_svm, y_test, X_test):\n",
    "    if correct_count and (prediction == original):\n",
    "        correct_predictions.append((text, original))\n",
    "        correct_count -= 1\n",
    "    elif incorrect_count and (prediction != original):\n",
    "        incorrect_predictions.append((text, original))\n",
    "        incorrect_count -= 1\n",
    "\n",
    "print('Correct Predictions\\n')\n",
    "for text in correct_predictions:\n",
    "    print(f'Text: {text[0]}, isSarcastic: {bool(text[1])}')\n",
    "\n",
    "print('\\nIncorrect Predictions\\n')\n",
    "for text in incorrect_predictions:\n",
    "    print(f'Text: {text[0]}, isSarcastic: {bool(text[1])}')"
   ]
  },
  {
   "cell_type": "markdown",
   "metadata": {},
   "source": [
    "Al revisar estos textos (sin Stop Words), es posible notar que en los que fueron incorrectamente predichos se ocupan en general palabras más específicas y apegadas al contexto, por lo que el clasificador no fue capaz de detectar correctamente si eran sarcásticos o no. También ocurre que en las predicciones incorrectas, los textos son menos 'intuitivos', en el sentido de que las palabras ocupadas en general pertenecen a mensajes de otra índole, dificultando la clasificación al no poder relacionarlas con el contexto del mensaje. Esto ocurre, por ejemplo, con el texto 'jon bon jovi jealous classmate jersey', donde rara vez se suelen usar esas palabras juntas en un mismo contexto."
   ]
  },
  {
   "cell_type": "markdown",
   "metadata": {},
   "source": [
    "# Actividad 5\n",
    "\n",
    "Se entrenan 6 modelos distintos de MultiLayer Perceptron, variando la cantidad de capas y el tamaño de éstas:"
   ]
  },
  {
   "cell_type": "code",
   "execution_count": 129,
   "metadata": {},
   "outputs": [
    {
     "name": "stderr",
     "output_type": "stream",
     "text": [
      "C:\\Users\\Benja\\AppData\\Local\\Programs\\Python\\Python37\\lib\\site-packages\\sklearn\\neural_network\\multilayer_perceptron.py:566: ConvergenceWarning: Stochastic Optimizer: Maximum iterations (30) reached and the optimization hasn't converged yet.\n",
      "  % self.max_iter, ConvergenceWarning)\n",
      "C:\\Users\\Benja\\AppData\\Local\\Programs\\Python\\Python37\\lib\\site-packages\\sklearn\\neural_network\\multilayer_perceptron.py:566: ConvergenceWarning: Stochastic Optimizer: Maximum iterations (30) reached and the optimization hasn't converged yet.\n",
      "  % self.max_iter, ConvergenceWarning)\n",
      "C:\\Users\\Benja\\AppData\\Local\\Programs\\Python\\Python37\\lib\\site-packages\\sklearn\\neural_network\\multilayer_perceptron.py:566: ConvergenceWarning: Stochastic Optimizer: Maximum iterations (30) reached and the optimization hasn't converged yet.\n",
      "  % self.max_iter, ConvergenceWarning)\n"
     ]
    },
    {
     "data": {
      "text/plain": [
       "MLPClassifier(activation='relu', alpha=0.0001, batch_size='auto', beta_1=0.9,\n",
       "              beta_2=0.999, early_stopping=False, epsilon=1e-08,\n",
       "              hidden_layer_sizes=(1, 10, 50, 100, 150),\n",
       "              learning_rate='constant', learning_rate_init=0.001, max_iter=30,\n",
       "              momentum=0.9, n_iter_no_change=10, nesterovs_momentum=True,\n",
       "              power_t=0.5, random_state=None, shuffle=True, solver='adam',\n",
       "              tol=0.0001, validation_fraction=0.1, verbose=False,\n",
       "              warm_start=False)"
      ]
     },
     "execution_count": 129,
     "metadata": {},
     "output_type": "execute_result"
    }
   ],
   "source": [
    "from sklearn.neural_network import MLPClassifier\n",
    "\n",
    "mlp_a = MLPClassifier(hidden_layer_sizes=(1), solver='adam', max_iter=30)\n",
    "mlp_a.fit(features_train, y_train)\n",
    "\n",
    "mlp_b = MLPClassifier(hidden_layer_sizes=(100, 100), solver='adam', max_iter=30)\n",
    "mlp_b.fit(features_train, y_train)\n",
    "\n",
    "mlp_c = MLPClassifier(hidden_layer_sizes=(10, 50, 100), solver='adam', max_iter=30)\n",
    "mlp_c.fit(features_train, y_train)\n",
    "\n",
    "mlp_d = MLPClassifier(hidden_layer_sizes=(100, 50, 10), solver='adam', max_iter=30)\n",
    "mlp_d.fit(features_train, y_train)\n",
    "\n",
    "mlp_e = MLPClassifier(hidden_layer_sizes=(150, 100, 50, 10, 1), solver='adam', max_iter=30)\n",
    "mlp_e.fit(features_train, y_train)\n",
    "\n",
    "mlp_f = MLPClassifier(hidden_layer_sizes=(1, 10, 50, 100, 150), solver='adam', max_iter=30)\n",
    "mlp_f.fit(features_train, y_train)"
   ]
  },
  {
   "cell_type": "markdown",
   "metadata": {},
   "source": [
    "Ahora se aplican todos los modelos sobre el set de validación:"
   ]
  },
  {
   "cell_type": "code",
   "execution_count": 130,
   "metadata": {},
   "outputs": [],
   "source": [
    "val_mlp_a = mlp_a.predict(features_val)\n",
    "\n",
    "val_mlp_b = mlp_b.predict(features_val)\n",
    "\n",
    "val_mlp_c = mlp_c.predict(features_val)\n",
    "\n",
    "val_mlp_d = mlp_d.predict(features_val)\n",
    "\n",
    "val_mlp_e = mlp_e.predict(features_val)\n",
    "\n",
    "val_mlp_f = mlp_f.predict(features_val)"
   ]
  },
  {
   "cell_type": "markdown",
   "metadata": {},
   "source": [
    "Se grafica la pérdida con respecto al set de entrenamiento para cada uno de los modelos:"
   ]
  },
  {
   "cell_type": "code",
   "execution_count": 131,
   "metadata": {},
   "outputs": [
    {
     "data": {
      "image/png": "[encoded data removed]",
      "text/plain": [
       "<Figure size 1440x720 with 1 Axes>"
      ]
     },
     "metadata": {
      "needs_background": "light"
     },
     "output_type": "display_data"
    }
   ],
   "source": [
    "loss_values = []\n",
    "for mlp in [mlp_a, mlp_b, mlp_c, mlp_d, mlp_e, mlp_f]:\n",
    "    loss_values.append(mlp.loss_)\n",
    "\n",
    "plt.figure(figsize=(20,10))\n",
    "plt.bar(['A', 'B', 'C', 'D', 'E', 'F'], loss_values)\n",
    "plt.show()"
   ]
  },
  {
   "cell_type": "markdown",
   "metadata": {},
   "source": [
    "Se grafica la exactitud (Accuracy Score) en el set de validación para cada uno de los modelos:"
   ]
  },
  {
   "cell_type": "code",
   "execution_count": 132,
   "metadata": {},
   "outputs": [
    {
     "data": {
      "image/png": "[encoded data removed]",
      "text/plain": [
       "<Figure size 1440x720 with 1 Axes>"
      ]
     },
     "metadata": {
      "needs_background": "light"
     },
     "output_type": "display_data"
    }
   ],
   "source": [
    "validation_scores_mlp = []\n",
    "for validation_result_mlp in [val_mlp_a, val_mlp_b, val_mlp_c, val_mlp_d, val_mlp_e, val_mlp_f]:\n",
    "    validation_scores_mlp.append(accuracy_score(y_val, validation_result_mlp))\n",
    "\n",
    "plt.figure(figsize=(20,10))\n",
    "plt.bar(['A', 'B', 'C', 'D', 'E', 'F'], validation_scores_mlp)\n",
    "plt.show()"
   ]
  },
  {
   "cell_type": "markdown",
   "metadata": {},
   "source": [
    "Al analizar ambos gráficos se puede inferir lo siguiente:\n",
    "\n",
    "- En la mayoría de los modelos está ocurriendo Overfitting, puesto que el que mejor rendimiento tuvo en el set de validación fue el primero, que sólo posee 1 capa con 1 neurona. Esto también se puede evidenciar por los valores de pérdida en el set de entrenamiento, los que son muy bajos.\n",
    "\n",
    "- Observando las pérdidas, los modelos B, C y D se ajustan mejor al set de entrenamiento, aunque esto genera Overfitting al aplicarlo en el de validación. Esto muestra que un número no muy grande de capas con una cantidad considerablemente grande de neuronas logran apegarse más a los datos.\n",
    "\n",
    "- Al utilizar más capas o menos neuronas, los modelos no se ajustan tan bien a los datos, terminando con una mayor pérdida. Esto también ocurre (en algunos casos) debido a que no alcanzan a converger en las 30 épocas de entrenamiento."
   ]
  },
  {
   "cell_type": "markdown",
   "metadata": {},
   "source": [
    "# Actividad 6\n",
    "\n",
    "Análogo a las SVM, analizamos la tabla de resultados para las distintas redes neuronales utilizadas:"
   ]
  },
  {
   "cell_type": "code",
   "execution_count": 133,
   "metadata": {},
   "outputs": [
    {
     "data": {
      "text/html": [
       "<div>\n",
       "<style scoped>\n",
       "    .dataframe tbody tr th:only-of-type {\n",
       "        vertical-align: middle;\n",
       "    }\n",
       "\n",
       "    .dataframe tbody tr th {\n",
       "        vertical-align: top;\n",
       "    }\n",
       "\n",
       "    .dataframe thead th {\n",
       "        text-align: right;\n",
       "    }\n",
       "</style>\n",
       "<table border=\"1\" class=\"dataframe\">\n",
       "  <thead>\n",
       "    <tr style=\"text-align: right;\">\n",
       "      <th></th>\n",
       "      <th>Hidden Layers</th>\n",
       "      <th>Training Set Loss</th>\n",
       "      <th>Validation Set Accuracy</th>\n",
       "    </tr>\n",
       "  </thead>\n",
       "  <tbody>\n",
       "    <tr>\n",
       "      <th>0</th>\n",
       "      <td>1</td>\n",
       "      <td>0.143831</td>\n",
       "      <td>0.811554</td>\n",
       "    </tr>\n",
       "    <tr>\n",
       "      <th>1</th>\n",
       "      <td>(100, 100)</td>\n",
       "      <td>0.000301</td>\n",
       "      <td>0.794316</td>\n",
       "    </tr>\n",
       "    <tr>\n",
       "      <th>2</th>\n",
       "      <td>(10, 50, 100)</td>\n",
       "      <td>0.000429</td>\n",
       "      <td>0.781039</td>\n",
       "    </tr>\n",
       "    <tr>\n",
       "      <th>3</th>\n",
       "      <td>(100, 50, 10)</td>\n",
       "      <td>0.000295</td>\n",
       "      <td>0.793152</td>\n",
       "    </tr>\n",
       "    <tr>\n",
       "      <th>4</th>\n",
       "      <td>(150, 100, 50, 10, 1)</td>\n",
       "      <td>0.149426</td>\n",
       "      <td>0.767063</td>\n",
       "    </tr>\n",
       "    <tr>\n",
       "      <th>5</th>\n",
       "      <td>(1, 10, 50, 100, 150)</td>\n",
       "      <td>0.007164</td>\n",
       "      <td>0.769858</td>\n",
       "    </tr>\n",
       "  </tbody>\n",
       "</table>\n",
       "</div>"
      ],
      "text/plain": [
       "           Hidden Layers  Training Set Loss  Validation Set Accuracy\n",
       "0                      1           0.143831                 0.811554\n",
       "1             (100, 100)           0.000301                 0.794316\n",
       "2          (10, 50, 100)           0.000429                 0.781039\n",
       "3          (100, 50, 10)           0.000295                 0.793152\n",
       "4  (150, 100, 50, 10, 1)           0.149426                 0.767063\n",
       "5  (1, 10, 50, 100, 150)           0.007164                 0.769858"
      ]
     },
     "execution_count": 133,
     "metadata": {},
     "output_type": "execute_result"
    }
   ],
   "source": [
    "mlp_data = {'Hidden Layers': [(1), (100, 100), (10, 50, 100), (100, 50, 10), (150, 100, 50, 10, 1), (1, 10, 50, 100, 150)],\n",
    "            'Training Set Loss': loss_values, 'Validation Set Accuracy': validation_scores_mlp}\n",
    "\n",
    "mlp_table = pd.DataFrame(mlp_data)\n",
    "mlp_table"
   ]
  },
  {
   "cell_type": "markdown",
   "metadata": {},
   "source": [
    "La red neuronal que mejor se ajusta corresponde a la 1ra:"
   ]
  },
  {
   "cell_type": "code",
   "execution_count": 134,
   "metadata": {},
   "outputs": [],
   "source": [
    "best_mlp = mlp_a"
   ]
  },
  {
   "cell_type": "markdown",
   "metadata": {},
   "source": [
    "A continuación aplicamos el mejor modelo de MLP sobre el set de testing:"
   ]
  },
  {
   "cell_type": "code",
   "execution_count": 135,
   "metadata": {},
   "outputs": [],
   "source": [
    "test_best_mlp = best_mlp.predict(features_test)"
   ]
  },
  {
   "cell_type": "markdown",
   "metadata": {},
   "source": [
    "Obtenemos el Accuracy Score para evaluar su rendimiento:"
   ]
  },
  {
   "cell_type": "code",
   "execution_count": 136,
   "metadata": {},
   "outputs": [
    {
     "name": "stdout",
     "output_type": "stream",
     "text": [
      "0.8094572559981364\n"
     ]
    }
   ],
   "source": [
    "print(accuracy_score(y_test, test_best_mlp))"
   ]
  },
  {
   "cell_type": "markdown",
   "metadata": {},
   "source": [
    "Debido a que el primer modelo es más simple (sólo 1 capa oculta con 1 neurona), termina evitando caer en Overfitting al momento de entrenarse, finalmente resultando en el mejor clasificador para los datos. Los otros modelos se logran adaptar mejor al set de entrenamiento (la pérdida de algunos es mucho menor a la del primer modelo), pero debido a esto pierden generalidad y caen en Overfitting, resultando en peores clasificadores para los datos. También afecta el hecho de que al ser más complejos, en algunos casos no alcanzan a optimizarse y converger en las 30 iteraciones de entrenamiento, quedando 'incompletos'."
   ]
  },
  {
   "cell_type": "markdown",
   "metadata": {},
   "source": [
    "# Actividad 7\n",
    "\n",
    "Realizamos un análisis sobre algunos textos predichos correcta e incorrectamente:"
   ]
  },
  {
   "cell_type": "code",
   "execution_count": 137,
   "metadata": {},
   "outputs": [
    {
     "name": "stdout",
     "output_type": "stream",
     "text": [
      "Correct Predictions\n",
      "\n",
      "Text: elle magazine accidentally airbrushes naomi watts cover altogether, isSarcastic: True\n",
      "Text: this its like free dive whales, isSarcastic: False\n",
      "Text: the drag queen world series need know!, isSarcastic: False\n",
      "Text: israel vows use veto power chuck hagel confirmed u.s. secretary defense, isSarcastic: True\n",
      "Text: first-grader given sticker behavior lockdown drill, isSarcastic: True\n",
      "Text: donald trump didnt actually roll legal protections transgender kids, isSarcastic: False\n",
      "Text: stylin pete king dress world crisis, isSarcastic: False\n",
      "Text: un chief warns womens rights attack worldwide, isSarcastic: False\n",
      "Text: perfect birthday card discovered local mall, isSarcastic: True\n",
      "Text: republican sen. gardner torches sessions pot reversal, isSarcastic: False\n",
      "\n",
      "Incorrect Predictions\n",
      "\n",
      "Text: 13 year old boy diagnosed incurable puberty, isSarcastic: True\n",
      "Text: woman enters miss universe malaysia finding beauty head-to-toe moles, isSarcastic: False\n",
      "Text: dog waited spot month family return, isSarcastic: False\n",
      "Text: anthropologists discover ancient greek super pac helped shape democracy, isSarcastic: True\n",
      "Text: hillary clinton making big promises ufo believers, isSarcastic: False\n",
      "Text: wedding experts engagement ring cost diamond miners lives, isSarcastic: True\n",
      "Text: jessica simpson reveals slimmer figure chopping limbs, isSarcastic: True\n",
      "Text: edge tomorrow spiritual travel metaphor, isSarcastic: False\n",
      "Text: would buy 1,433-pound meteorite $1.1 million?, isSarcastic: False\n",
      "Text: aunt facebook casually advocates war crime, isSarcastic: True\n"
     ]
    }
   ],
   "source": [
    "correct_count = 10\n",
    "incorrect_count = 10\n",
    "correct_predictions = []\n",
    "incorrect_predictions = []\n",
    "for prediction, original, text in zip(test_best_mlp, y_test, X_test):\n",
    "    if correct_count and (prediction == original):\n",
    "        correct_predictions.append((text, original))\n",
    "        correct_count -= 1\n",
    "    elif incorrect_count and (prediction != original):\n",
    "        incorrect_predictions.append((text, original))\n",
    "        incorrect_count -= 1\n",
    "\n",
    "print('Correct Predictions\\n')\n",
    "for text in correct_predictions:\n",
    "    print(f'Text: {text[0]}, isSarcastic: {bool(text[1])}')\n",
    "\n",
    "print('\\nIncorrect Predictions\\n')\n",
    "for text in incorrect_predictions:\n",
    "    print(f'Text: {text[0]}, isSarcastic: {bool(text[1])}')"
   ]
  },
  {
   "cell_type": "markdown",
   "metadata": {},
   "source": [
    "La MLP logra 'deducir' mejor el contexto de los mensajes, siendo capaz de predecir correctamente algunos textos que la SVM no fue capaz. Esto implica que las MLP se terminan apegando más a los datos que las SVM, lo que también lleva a problemas, como el no rendir bien cuando las palabras utilizadas en un texto son poco comunes en el set de entrenamiento. Esto ocurre, por ejemplo, en el texto 'anthropologists discover ancient greek super pac helped shape democracy', que probablemente no tiene ningún parecido a algún texto del set de entrenamiento."
   ]
  },
  {
   "cell_type": "markdown",
   "metadata": {},
   "source": [
    "Como conclusión, se podría decir que las SVM rinden mejor en casos en los que las palabras ocupadas suelen estar más relacionadas entre sí, sin depender mucho del contexto, mientras que las MLP rinden mejor cuando se ocupan textos similares a los del set de entrenamiento, y se apegan más al contexto."
   ]
  }
 ],
 "metadata": {
  "colab": {
   "collapsed_sections": [],
   "machine_shape": "hm",
   "name": "Ayudantia Tarea_3_IA.ipynb",
   "provenance": []
  },
  "kernelspec": {
   "display_name": "Python 3",
   "language": "python",
   "name": "python3"
  }
 },
 "nbformat": 4,
 "nbformat_minor": 1
}
